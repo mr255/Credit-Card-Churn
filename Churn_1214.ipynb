{
 "cells": [
  {
   "cell_type": "code",
   "execution_count": 79,
   "id": "4456ca99",
   "metadata": {},
   "outputs": [],
   "source": [
    "import pandas as pd\n",
    "import numpy as np\n",
    "import matplotlib.pyplot as plt\n",
    "from sklearn.model_selection import train_test_split\n",
    "from sklearn.linear_model import LogisticRegression\n",
    "from sklearn import metrics\n",
    "from sklearn.metrics import classification_report\n",
    "from sklearn.metrics import precision_score\n",
    "from sklearn.metrics import recall_score\n",
    "from sklearn.metrics import precision_recall_curve\n",
    "from sklearn.metrics import PrecisionRecallDisplay\n"
   ]
  },
  {
   "cell_type": "code",
   "execution_count": 64,
   "id": "752c5473",
   "metadata": {},
   "outputs": [],
   "source": [
    "df_raw = pd.read_csv('BankChurners.csv')"
   ]
  },
  {
   "cell_type": "code",
   "execution_count": 65,
   "id": "75dce29f",
   "metadata": {},
   "outputs": [
    {
     "data": {
      "text/html": [
       "<div>\n",
       "<style scoped>\n",
       "    .dataframe tbody tr th:only-of-type {\n",
       "        vertical-align: middle;\n",
       "    }\n",
       "\n",
       "    .dataframe tbody tr th {\n",
       "        vertical-align: top;\n",
       "    }\n",
       "\n",
       "    .dataframe thead th {\n",
       "        text-align: right;\n",
       "    }\n",
       "</style>\n",
       "<table border=\"1\" class=\"dataframe\">\n",
       "  <thead>\n",
       "    <tr style=\"text-align: right;\">\n",
       "      <th></th>\n",
       "      <th>CLIENTNUM</th>\n",
       "      <th>Attrition_Flag</th>\n",
       "      <th>Customer_Age</th>\n",
       "      <th>Gender</th>\n",
       "      <th>Dependent_count</th>\n",
       "      <th>Education_Level</th>\n",
       "      <th>Marital_Status</th>\n",
       "      <th>Income_Category</th>\n",
       "      <th>Card_Category</th>\n",
       "      <th>Months_on_book</th>\n",
       "      <th>...</th>\n",
       "      <th>Credit_Limit</th>\n",
       "      <th>Total_Revolving_Bal</th>\n",
       "      <th>Avg_Open_To_Buy</th>\n",
       "      <th>Total_Amt_Chng_Q4_Q1</th>\n",
       "      <th>Total_Trans_Amt</th>\n",
       "      <th>Total_Trans_Ct</th>\n",
       "      <th>Total_Ct_Chng_Q4_Q1</th>\n",
       "      <th>Avg_Utilization_Ratio</th>\n",
       "      <th>Naive_Bayes_Classifier_Attrition_Flag_Card_Category_Contacts_Count_12_mon_Dependent_count_Education_Level_Months_Inactive_12_mon_1</th>\n",
       "      <th>Naive_Bayes_Classifier_Attrition_Flag_Card_Category_Contacts_Count_12_mon_Dependent_count_Education_Level_Months_Inactive_12_mon_2</th>\n",
       "    </tr>\n",
       "  </thead>\n",
       "  <tbody>\n",
       "    <tr>\n",
       "      <th>0</th>\n",
       "      <td>768805383</td>\n",
       "      <td>Existing Customer</td>\n",
       "      <td>45</td>\n",
       "      <td>M</td>\n",
       "      <td>3</td>\n",
       "      <td>High School</td>\n",
       "      <td>Married</td>\n",
       "      <td>$60K - $80K</td>\n",
       "      <td>Blue</td>\n",
       "      <td>39</td>\n",
       "      <td>...</td>\n",
       "      <td>12691.0</td>\n",
       "      <td>777</td>\n",
       "      <td>11914.0</td>\n",
       "      <td>1.335</td>\n",
       "      <td>1144</td>\n",
       "      <td>42</td>\n",
       "      <td>1.625</td>\n",
       "      <td>0.061</td>\n",
       "      <td>0.000093</td>\n",
       "      <td>0.99991</td>\n",
       "    </tr>\n",
       "    <tr>\n",
       "      <th>1</th>\n",
       "      <td>818770008</td>\n",
       "      <td>Existing Customer</td>\n",
       "      <td>49</td>\n",
       "      <td>F</td>\n",
       "      <td>5</td>\n",
       "      <td>Graduate</td>\n",
       "      <td>Single</td>\n",
       "      <td>Less than $40K</td>\n",
       "      <td>Blue</td>\n",
       "      <td>44</td>\n",
       "      <td>...</td>\n",
       "      <td>8256.0</td>\n",
       "      <td>864</td>\n",
       "      <td>7392.0</td>\n",
       "      <td>1.541</td>\n",
       "      <td>1291</td>\n",
       "      <td>33</td>\n",
       "      <td>3.714</td>\n",
       "      <td>0.105</td>\n",
       "      <td>0.000057</td>\n",
       "      <td>0.99994</td>\n",
       "    </tr>\n",
       "    <tr>\n",
       "      <th>2</th>\n",
       "      <td>713982108</td>\n",
       "      <td>Existing Customer</td>\n",
       "      <td>51</td>\n",
       "      <td>M</td>\n",
       "      <td>3</td>\n",
       "      <td>Graduate</td>\n",
       "      <td>Married</td>\n",
       "      <td>$80K - $120K</td>\n",
       "      <td>Blue</td>\n",
       "      <td>36</td>\n",
       "      <td>...</td>\n",
       "      <td>3418.0</td>\n",
       "      <td>0</td>\n",
       "      <td>3418.0</td>\n",
       "      <td>2.594</td>\n",
       "      <td>1887</td>\n",
       "      <td>20</td>\n",
       "      <td>2.333</td>\n",
       "      <td>0.000</td>\n",
       "      <td>0.000021</td>\n",
       "      <td>0.99998</td>\n",
       "    </tr>\n",
       "    <tr>\n",
       "      <th>3</th>\n",
       "      <td>769911858</td>\n",
       "      <td>Existing Customer</td>\n",
       "      <td>40</td>\n",
       "      <td>F</td>\n",
       "      <td>4</td>\n",
       "      <td>High School</td>\n",
       "      <td>Unknown</td>\n",
       "      <td>Less than $40K</td>\n",
       "      <td>Blue</td>\n",
       "      <td>34</td>\n",
       "      <td>...</td>\n",
       "      <td>3313.0</td>\n",
       "      <td>2517</td>\n",
       "      <td>796.0</td>\n",
       "      <td>1.405</td>\n",
       "      <td>1171</td>\n",
       "      <td>20</td>\n",
       "      <td>2.333</td>\n",
       "      <td>0.760</td>\n",
       "      <td>0.000134</td>\n",
       "      <td>0.99987</td>\n",
       "    </tr>\n",
       "    <tr>\n",
       "      <th>4</th>\n",
       "      <td>709106358</td>\n",
       "      <td>Existing Customer</td>\n",
       "      <td>40</td>\n",
       "      <td>M</td>\n",
       "      <td>3</td>\n",
       "      <td>Uneducated</td>\n",
       "      <td>Married</td>\n",
       "      <td>$60K - $80K</td>\n",
       "      <td>Blue</td>\n",
       "      <td>21</td>\n",
       "      <td>...</td>\n",
       "      <td>4716.0</td>\n",
       "      <td>0</td>\n",
       "      <td>4716.0</td>\n",
       "      <td>2.175</td>\n",
       "      <td>816</td>\n",
       "      <td>28</td>\n",
       "      <td>2.500</td>\n",
       "      <td>0.000</td>\n",
       "      <td>0.000022</td>\n",
       "      <td>0.99998</td>\n",
       "    </tr>\n",
       "  </tbody>\n",
       "</table>\n",
       "<p>5 rows × 23 columns</p>\n",
       "</div>"
      ],
      "text/plain": [
       "   CLIENTNUM     Attrition_Flag  Customer_Age Gender  Dependent_count  \\\n",
       "0  768805383  Existing Customer            45      M                3   \n",
       "1  818770008  Existing Customer            49      F                5   \n",
       "2  713982108  Existing Customer            51      M                3   \n",
       "3  769911858  Existing Customer            40      F                4   \n",
       "4  709106358  Existing Customer            40      M                3   \n",
       "\n",
       "  Education_Level Marital_Status Income_Category Card_Category  \\\n",
       "0     High School        Married     $60K - $80K          Blue   \n",
       "1        Graduate         Single  Less than $40K          Blue   \n",
       "2        Graduate        Married    $80K - $120K          Blue   \n",
       "3     High School        Unknown  Less than $40K          Blue   \n",
       "4      Uneducated        Married     $60K - $80K          Blue   \n",
       "\n",
       "   Months_on_book  ...  Credit_Limit  Total_Revolving_Bal  Avg_Open_To_Buy  \\\n",
       "0              39  ...       12691.0                  777          11914.0   \n",
       "1              44  ...        8256.0                  864           7392.0   \n",
       "2              36  ...        3418.0                    0           3418.0   \n",
       "3              34  ...        3313.0                 2517            796.0   \n",
       "4              21  ...        4716.0                    0           4716.0   \n",
       "\n",
       "   Total_Amt_Chng_Q4_Q1  Total_Trans_Amt  Total_Trans_Ct  Total_Ct_Chng_Q4_Q1  \\\n",
       "0                 1.335             1144              42                1.625   \n",
       "1                 1.541             1291              33                3.714   \n",
       "2                 2.594             1887              20                2.333   \n",
       "3                 1.405             1171              20                2.333   \n",
       "4                 2.175              816              28                2.500   \n",
       "\n",
       "   Avg_Utilization_Ratio  \\\n",
       "0                  0.061   \n",
       "1                  0.105   \n",
       "2                  0.000   \n",
       "3                  0.760   \n",
       "4                  0.000   \n",
       "\n",
       "   Naive_Bayes_Classifier_Attrition_Flag_Card_Category_Contacts_Count_12_mon_Dependent_count_Education_Level_Months_Inactive_12_mon_1  \\\n",
       "0                                           0.000093                                                                                    \n",
       "1                                           0.000057                                                                                    \n",
       "2                                           0.000021                                                                                    \n",
       "3                                           0.000134                                                                                    \n",
       "4                                           0.000022                                                                                    \n",
       "\n",
       "   Naive_Bayes_Classifier_Attrition_Flag_Card_Category_Contacts_Count_12_mon_Dependent_count_Education_Level_Months_Inactive_12_mon_2  \n",
       "0                                            0.99991                                                                                   \n",
       "1                                            0.99994                                                                                   \n",
       "2                                            0.99998                                                                                   \n",
       "3                                            0.99987                                                                                   \n",
       "4                                            0.99998                                                                                   \n",
       "\n",
       "[5 rows x 23 columns]"
      ]
     },
     "execution_count": 65,
     "metadata": {},
     "output_type": "execute_result"
    }
   ],
   "source": [
    "df_raw.head()\n",
    "# print(df_raw.columns)"
   ]
  },
  {
   "cell_type": "markdown",
   "id": "dc539849",
   "metadata": {},
   "source": [
    "First I will make y, our target 1 or zero.  To do this i will first make col attrition flag a category type the try to binary it."
   ]
  },
  {
   "cell_type": "code",
   "execution_count": 66,
   "id": "13dbc099",
   "metadata": {},
   "outputs": [],
   "source": [
    "dfy = df_raw[['CLIENTNUM','Attrition_Flag']]\n",
    "df = pd.get_dummies(dfy['Attrition_Flag'])\n",
    "df = pd.concat((dfy,df),axis=1)\n",
    "df = df.drop([\"Existing Customer\"],axis=1)\n",
    "y = df['Attrited Customer'].to_numpy()\n",
    "# print(y[0:10])\n",
    "# df_raw.iloc[130:141]"
   ]
  },
  {
   "cell_type": "raw",
   "id": "5fa28e42",
   "metadata": {},
   "source": [
    "Here we will build X which will be used as our data in the regression"
   ]
  },
  {
   "cell_type": "code",
   "execution_count": 67,
   "id": "084fc84e",
   "metadata": {},
   "outputs": [
    {
     "name": "stdout",
     "output_type": "stream",
     "text": [
      "14 Numerical Only\n",
      "15 with Sex\n",
      "16 with Education\n",
      "20 with Marriage, should add 4\n",
      "26 with Income, should add 6\n",
      "30 with Card Color, should add 4\n",
      "(10127, 30)\n"
     ]
    }
   ],
   "source": [
    "#===========================================\n",
    "cols = df_raw.describe().columns\n",
    "cols = cols.tolist()\n",
    "dfx = df_raw[cols[1:-2]]\n",
    "X_num = dfx.to_numpy()\n",
    "print(str(X_num.shape[1]) + ' Numerical Only')\n",
    "\n",
    "# categorical, Gender\n",
    "df_gender = pd.get_dummies(df_raw['Gender'])\n",
    "genF = df_gender['F'].to_numpy()\n",
    "Xf = np.append(X_num,genF.reshape((10127,1)),axis=1)\n",
    "print(str(Xf.shape[1]) + ' with Sex')\n",
    "\n",
    "# categorical, Education\n",
    "# 0 = unknown, 1 = undeducated, ... , 6 = Doctorate\n",
    "# But maybe less educated use credit card more or less than highly educated this is for churn not ability to pay\n",
    "edu = df_raw['Education_Level'].unique()\n",
    "df_education = pd.get_dummies(df_raw['Education_Level'])\n",
    "df_education['Unknown'] = 0*df_education['Unknown']\n",
    "df_education['High School'] = 2*df_education['High School']\n",
    "df_education['College'] = 3*df_education['College']\n",
    "df_education['Graduate'] = 4*df_education['Graduate']\n",
    "df_education['Post-Graduate'] = 5*df_education['Post-Graduate']\n",
    "df_education['Doctorate'] = 6*df_education['Doctorate']\n",
    "df_edu = df_education.sum(axis=1)\n",
    "edu = df_edu.to_numpy()\n",
    "Xed = np.append(Xf, edu.reshape((10127,1)),axis=1)\n",
    "print(str(Xed.shape[1]) + ' with Education')\n",
    "\n",
    "# categorical, Marriage\n",
    "# Put 4 columns because is divorced more likely than single to use this card, I dont think so\n",
    "mar = df_raw['Marital_Status'].unique()\n",
    "# print(mar)\n",
    "df_mar = pd.get_dummies(df_raw['Marital_Status'])\n",
    "df_mar.head()\n",
    "mar = df_mar.to_numpy()\n",
    "# print(mar.shape)\n",
    "Xmar = np.append(Xed,mar,axis=1)\n",
    "print(str(Xmar.shape[1]) + ' with Marriage, should add 4')\n",
    "\n",
    "# categorical, Income\n",
    "# Put 6 columns because i am not sure if this should be ordinal but I am saying not.\n",
    "inc = df_raw['Income_Category'].unique()\n",
    "df_inc = pd.get_dummies(df_raw['Income_Category'])\n",
    "df_inc.head()\n",
    "inc = df_inc.to_numpy()\n",
    "Xinc = np.append(Xmar,inc,axis=1)\n",
    "print(str(Xinc.shape[1]) + ' with Income, should add 6')\n",
    "\n",
    "# categorical, Card Category\n",
    "# Put 6 columns because i am not sure if this should be ordinal but I am saying not, dont know what the order is.\n",
    "cc = df_raw['Card_Category'].unique()\n",
    "df_cc = pd.get_dummies(df_raw['Card_Category'])\n",
    "df_cc.tail()\n",
    "cc = df_cc.to_numpy()\n",
    "Xcc = np.append(Xinc,cc,axis=1)\n",
    "print(str(Xcc.shape[1]) + ' with Card Color, should add 4')\n",
    "\n",
    "\n",
    "# Final X, just rename\n",
    "X = Xcc\n",
    "print(X.shape)\n",
    "\n",
    "# TODO\n",
    "# Education Level ---- DONE\n",
    "# Marital Status ----- DONE\n",
    "# Income Category ---- DONE\n",
    "# Card Category ------ DONE"
   ]
  },
  {
   "cell_type": "code",
   "execution_count": 80,
   "id": "ec72dd6f",
   "metadata": {},
   "outputs": [],
   "source": [
    "def logreg(X,y,beta=0):\n",
    "    print('==========================================================================')\n",
    "    print('Results for simple Logistic Regression with some categorical data.')\n",
    "    X_train,X_test,y_train,y_test = train_test_split(X,y,test_size=0.25,random_state=0)\n",
    "    logreg = LogisticRegression(max_iter=3000)\n",
    "    logreg.fit(X_train,y_train)\n",
    "    y_pred = logreg.predict(X_test)\n",
    "    labels = [\"Existing Customer\", 'Attrited Customer']    \n",
    "    print(classification_report(y_test,y_pred, target_names=labels))\n",
    "    print(precision_score(y_test,y_pred))\n",
    "    print(recall_score(y_test,y_pred))\n",
    "    precision, recall, thresholds = precision_recall_curve(y_test,y_pred)\n",
    "    print(recall)\n",
    "    pr_display = PrecisionRecallDisplay(precision, recall).plot()\n",
    "    print('==========================================================================')\n",
    "    \n",
    "#     cnf_matrix = metrics.confusion_matrix(y_test, y_pred)\n",
    "#     print(cnf_matrix)\n",
    "#     tp = cnf_matrix[0,0]\n",
    "#     fp = cnf_matrix[1,0]\n",
    "#     fn = cnf_matrix[0,1]\n",
    "#     tn = cnf_matrix[1,1]\n",
    "#     precision = tp/(tp+fp)\n",
    "#     recall = tp/(tp+fn)\n",
    "#     print('Precision: ' + str(precision))\n",
    "#     print('Recall: ' + str(recall))\n",
    "#     print('F1 Score: ' + str(2*precision*recall/(precision+recall)))\n",
    "#     print('--------------------------------')\n",
    "#     print(y_test.shape)\n",
    "#     print(y_pred.shape)\n",
    "#     labels = [\"Existing Customer\", 'Attrited Customer']    \n",
    "#     print(classification_report(y_test,y_pred, target_names=labels))"
   ]
  },
  {
   "cell_type": "code",
   "execution_count": 81,
   "id": "9877b766",
   "metadata": {},
   "outputs": [
    {
     "name": "stdout",
     "output_type": "stream",
     "text": [
      "==========================================================================\n",
      "Results for simple Logistic Regression with some categorical data.\n",
      "                   precision    recall  f1-score   support\n",
      "\n",
      "Existing Customer       0.92      0.96      0.94      2148\n",
      "Attrited Customer       0.71      0.50      0.59       384\n",
      "\n",
      "         accuracy                           0.89      2532\n",
      "        macro avg       0.81      0.73      0.76      2532\n",
      "     weighted avg       0.88      0.89      0.89      2532\n",
      "\n",
      "0.7084870848708487\n",
      "0.5\n",
      "[1.  0.5 0. ]\n",
      "==========================================================================\n"
     ]
    },
    {
     "data": {
      "image/png": "[encoded data removed]",
      "text/plain": [
       "<Figure size 432x288 with 1 Axes>"
      ]
     },
     "metadata": {
      "needs_background": "light"
     },
     "output_type": "display_data"
    }
   ],
   "source": [
    "logreg(X,y)"
   ]
  },
  {
   "cell_type": "code",
   "execution_count": null,
   "id": "d752b1dc",
   "metadata": {},
   "outputs": [],
   "source": [
    "#Results\n",
    "# ==========================================================================\n",
    "# Results for simple Logistic Regression on only numerical columns.\n",
    "# [[2075   73]\n",
    "#  [ 200  184]]\n",
    "# Precision: 0.9120879120879121\n",
    "# Recall: 0.9660148975791434\n",
    "# F1 Score: 0.9382771874293466\n",
    "# ==========================================================================\n",
    "\n",
    "# with one column male = 1, female = 0, we get this\n",
    "# ==========================================================================\n",
    "# Results for simple Logistic Regression with one categorical column for gender.\n",
    "# [[2071   77]\n",
    "#  [ 196  188]]\n",
    "# Precision: 0.913542126157918\n",
    "# Recall: 0.9641527001862198\n",
    "# F1 Score: 0.9381653454133636\n",
    "# ==========================================================================\n",
    "\n",
    "# with one column male = 0, female = 1, we get this, why are they different and this one is better in some ways\n",
    "# ==========================================================================\n",
    "# Results for simple Logistic Regression with one categorical column for gender.\n",
    "# [[2073   75]\n",
    "#  [ 192  192]]\n",
    "# Precision: 0.9152317880794701\n",
    "# Recall: 0.9650837988826816\n",
    "# F1 Score: 0.9394969408565601\n",
    "# ==========================================================================\n",
    "\n",
    "# with column for male and female, we get this, slightly better\n",
    "# ==========================================================================\n",
    "# Results for simple Logistic Regression with two categorical columns for gender.\n",
    "# [[2072   76]\n",
    "#  [ 190  194]]\n",
    "# Precision: 0.9160035366931919\n",
    "# Recall: 0.9646182495344506\n",
    "# F1 Score: 0.9396825396825397\n",
    "# ==========================================================================\n",
    "\n",
    "# With sex and Education\n",
    "# ==========================================================================\n",
    "# Results for simple Logistic Regression with some categorical data.\n",
    "# [[2070   78]\n",
    "#  [ 189  195]]\n",
    "# Precision: 0.9163346613545816\n",
    "# Recall: 0.9636871508379888\n",
    "# F1 Score: 0.9394145677331518\n",
    "# ==========================================================================\n",
    "\n",
    "# With sex and Education and Marital Status\n",
    "# ==========================================================================\n",
    "# Results for simple Logistic Regression with some categorical data.\n",
    "# [[2072   76]\n",
    "#  [ 184  200]]\n",
    "# Precision: 0.9184397163120568\n",
    "# Recall: 0.9646182495344506\n",
    "# F1 Score: 0.9409627611262489\n",
    "# ==========================================================================\n",
    "\n",
    "# Final Result\n",
    "# ==========================================================================\n",
    "# Results for simple Logistic Regression with some categorical data.\n",
    "# [[2069   79]\n",
    "#  [ 192  192]]\n",
    "# Precision: 0.9150818222025653\n",
    "# Recall: 0.9632216014897579\n",
    "# F1 Score: 0.9385348151508278\n",
    "# =========================================================================="
   ]
  },
  {
   "cell_type": "markdown",
   "id": "0b3bbed8",
   "metadata": {},
   "source": [
    "Do I want to optimize for Recall, then use the beta function for F1.  73 False Negatives, is that too many?"
   ]
  },
  {
   "cell_type": "code",
   "execution_count": 56,
   "id": "99010060",
   "metadata": {},
   "outputs": [],
   "source": [
    "#===================================================================   to test what is going on here on simple data\n",
    "#===================================================================   Sample Logistic Regression\n",
    "X = np.array([[14, 2], [9, 13], [1, 18], [5, 12], [11, 6], [19, 2],[7,16],[8,15], [10,10],[5,17]])\n",
    "y = np.array([1,0,0,0,1,1,0,0,1,0])"
   ]
  },
  {
   "cell_type": "code",
   "execution_count": 57,
   "id": "8ce0b026",
   "metadata": {},
   "outputs": [],
   "source": [
    "from sklearn.model_selection import train_test_split\n",
    "X_train,X_test,y_train,y_test = train_test_split(X,y,test_size=0.25,random_state=0)"
   ]
  },
  {
   "cell_type": "code",
   "execution_count": 58,
   "id": "bef0375d",
   "metadata": {},
   "outputs": [],
   "source": [
    "from sklearn.linear_model import LogisticRegression\n",
    "logreg = LogisticRegression()\n",
    "logreg.fit(X_train,y_train)\n",
    "y_pred = logreg.predict(X_test)"
   ]
  },
  {
   "cell_type": "code",
   "execution_count": 59,
   "id": "7aa9ceba",
   "metadata": {},
   "outputs": [],
   "source": [
    "from sklearn import metrics\n",
    "cnf_matrix = metrics.confusion_matrix(y_test, y_pred)"
   ]
  },
  {
   "cell_type": "code",
   "execution_count": 60,
   "id": "8c93fda7",
   "metadata": {},
   "outputs": [
    {
     "data": {
      "text/plain": [
       "array([[1, 0],\n",
       "       [1, 1]], dtype=int64)"
      ]
     },
     "execution_count": 60,
     "metadata": {},
     "output_type": "execute_result"
    }
   ],
   "source": [
    "cnf_matrix"
   ]
  },
  {
   "cell_type": "code",
   "execution_count": 61,
   "id": "e6d7db75",
   "metadata": {},
   "outputs": [
    {
     "data": {
      "text/plain": [
       "(2, 2)"
      ]
     },
     "execution_count": 61,
     "metadata": {},
     "output_type": "execute_result"
    }
   ],
   "source": [
    "cnf_matrix.shape"
   ]
  },
  {
   "cell_type": "code",
   "execution_count": 62,
   "id": "fa113d41",
   "metadata": {},
   "outputs": [
    {
     "data": {
      "text/plain": [
       "array([0, 0, 1])"
      ]
     },
     "execution_count": 62,
     "metadata": {},
     "output_type": "execute_result"
    }
   ],
   "source": [
    "y_pred"
   ]
  },
  {
   "cell_type": "code",
   "execution_count": 63,
   "id": "e2ff5879",
   "metadata": {},
   "outputs": [
    {
     "data": {
      "text/plain": [
       "array([0, 1, 1])"
      ]
     },
     "execution_count": 63,
     "metadata": {},
     "output_type": "execute_result"
    }
   ],
   "source": [
    "y_test"
   ]
  },
  {
   "cell_type": "code",
   "execution_count": 43,
   "id": "c34e5d74",
   "metadata": {},
   "outputs": [
    {
     "data": {
      "text/plain": [
       "array([[1, 2, 3],\n",
       "       [4, 5, 6]])"
      ]
     },
     "execution_count": 43,
     "metadata": {},
     "output_type": "execute_result"
    }
   ],
   "source": [
    "t = np.array([[1,2,3],[4,5,6]])\n",
    "t2 = np.array([[7,8]])\n",
    "t2 = np.transpose(t2)\n",
    "t"
   ]
  },
  {
   "cell_type": "code",
   "execution_count": 44,
   "id": "71a972a3",
   "metadata": {},
   "outputs": [],
   "source": [
    "new = np.append(t,t2,axis=1)"
   ]
  },
  {
   "cell_type": "code",
   "execution_count": 45,
   "id": "e6c74b7d",
   "metadata": {},
   "outputs": [
    {
     "data": {
      "text/plain": [
       "array([[1, 2, 3, 7],\n",
       "       [4, 5, 6, 8]])"
      ]
     },
     "execution_count": 45,
     "metadata": {},
     "output_type": "execute_result"
    }
   ],
   "source": [
    "new"
   ]
  },
  {
   "cell_type": "code",
   "execution_count": null,
   "id": "5ebd3d2b",
   "metadata": {},
   "outputs": [],
   "source": []
  }
 ],
 "metadata": {
  "kernelspec": {
   "display_name": "Python 3",
   "language": "python",
   "name": "python3"
  },
  "language_info": {
   "codemirror_mode": {
    "name": "ipython",
    "version": 3
   },
   "file_extension": ".py",
   "mimetype": "text/x-python",
   "name": "python",
   "nbconvert_exporter": "python",
   "pygments_lexer": "ipython3",
   "version": "3.7.9"
  }
 },
 "nbformat": 4,
 "nbformat_minor": 5
}
