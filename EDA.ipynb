{
 "cells": [
  {
   "cell_type": "code",
   "execution_count": 45,
   "id": "dfea8ea8",
   "metadata": {},
   "outputs": [],
   "source": [
    "import pandas as pd\n",
    "import numpy as np\n",
    "import matplotlib.pyplot as plt\n",
    "import seaborn as sns\n",
    "import random\n",
    "from scipy.stats import ttest_ind, ttest_rel\n",
    "from scipy import stats\n",
    "from scipy.stats import chi2_contingency\n",
    "from scipy.stats import chi2"
   ]
  },
  {
   "cell_type": "code",
   "execution_count": 46,
   "id": "2334e0be",
   "metadata": {},
   "outputs": [
    {
     "data": {
      "text/plain": [
       "Index(['CLIENTNUM', 'Attrition_Flag', 'Customer_Age', 'Gender',\n",
       "       'Dependent_count', 'Education_Level', 'Marital_Status',\n",
       "       'Income_Category', 'Card_Category', 'Months_on_book',\n",
       "       'Total_Relationship_Count', 'Months_Inactive_12_mon',\n",
       "       'Contacts_Count_12_mon', 'Credit_Limit', 'Total_Revolving_Bal',\n",
       "       'Avg_Open_To_Buy', 'Total_Amt_Chng_Q4_Q1', 'Total_Trans_Amt',\n",
       "       'Total_Trans_Ct', 'Total_Ct_Chng_Q4_Q1', 'Avg_Utilization_Ratio',\n",
       "       'Naive_Bayes_Classifier_Attrition_Flag_Card_Category_Contacts_Count_12_mon_Dependent_count_Education_Level_Months_Inactive_12_mon_1',\n",
       "       'Naive_Bayes_Classifier_Attrition_Flag_Card_Category_Contacts_Count_12_mon_Dependent_count_Education_Level_Months_Inactive_12_mon_2'],\n",
       "      dtype='object')"
      ]
     },
     "execution_count": 46,
     "metadata": {},
     "output_type": "execute_result"
    }
   ],
   "source": [
    "df = pd.read_csv('BankChurners.csv')\n",
    "y = df['Attrition_Flag'].to_numpy()\n",
    "df.columns"
   ]
  },
  {
   "cell_type": "markdown",
   "id": "7d9a2c70",
   "metadata": {},
   "source": [
    "Univariate Analyses - histograms for continuous features, countplots for categorical features"
   ]
  },
  {
   "cell_type": "code",
   "execution_count": 47,
   "id": "6c0c2bc3",
   "metadata": {},
   "outputs": [],
   "source": [
    "# I have done this in the previous exercise"
   ]
  },
  {
   "cell_type": "markdown",
   "id": "1bd81887",
   "metadata": {},
   "source": [
    "Bivariate Analysis - Relationship with Attrition for all variables.  Here is where I can work next, figure out hypothesis tests."
   ]
  },
  {
   "cell_type": "code",
   "execution_count": 48,
   "id": "8faaff4e",
   "metadata": {},
   "outputs": [
    {
     "data": {
      "image/png": "[encoded data removed]",
      "text/plain": [
       "<Figure size 720x720 with 1 Axes>"
      ]
     },
     "metadata": {
      "needs_background": "light"
     },
     "output_type": "display_data"
    }
   ],
   "source": [
    "# my example is for a prediction of a continuous variable, mine is categorical, binary.\n",
    "# Start with customer Age, boxplot for attrited and existing\n",
    "fig = plt.figure(figsize=(10,10)) \n",
    "sns.boxplot(x='Attrition_Flag', y='Customer_Age', data=df)\n",
    "plt.show()"
   ]
  },
  {
   "cell_type": "code",
   "execution_count": 49,
   "id": "d25522ff",
   "metadata": {},
   "outputs": [
    {
     "data": {
      "text/html": [
       "<div>\n",
       "<style scoped>\n",
       "    .dataframe tbody tr th:only-of-type {\n",
       "        vertical-align: middle;\n",
       "    }\n",
       "\n",
       "    .dataframe tbody tr th {\n",
       "        vertical-align: top;\n",
       "    }\n",
       "\n",
       "    .dataframe thead th {\n",
       "        text-align: right;\n",
       "    }\n",
       "</style>\n",
       "<table border=\"1\" class=\"dataframe\">\n",
       "  <thead>\n",
       "    <tr style=\"text-align: right;\">\n",
       "      <th></th>\n",
       "      <th>Attrition_Flag</th>\n",
       "      <th>Customer_Age</th>\n",
       "    </tr>\n",
       "  </thead>\n",
       "  <tbody>\n",
       "    <tr>\n",
       "      <th>0</th>\n",
       "      <td>Attrited Customer</td>\n",
       "      <td>46.659496</td>\n",
       "    </tr>\n",
       "    <tr>\n",
       "      <th>1</th>\n",
       "      <td>Existing Customer</td>\n",
       "      <td>46.262118</td>\n",
       "    </tr>\n",
       "  </tbody>\n",
       "</table>\n",
       "</div>"
      ],
      "text/plain": [
       "      Attrition_Flag  Customer_Age\n",
       "0  Attrited Customer     46.659496\n",
       "1  Existing Customer     46.262118"
      ]
     },
     "execution_count": 49,
     "metadata": {},
     "output_type": "execute_result"
    }
   ],
   "source": [
    "df[['Attrition_Flag', 'Customer_Age']].groupby(['Attrition_Flag'], as_index=False).mean().sort_values(by='Customer_Age', ascending=False)"
   ]
  },
  {
   "cell_type": "markdown",
   "id": "3b53605d",
   "metadata": {},
   "source": [
    "The mean age for an existing customer is 46.26 years, for an attrited customer it is 46.66 years."
   ]
  },
  {
   "cell_type": "markdown",
   "id": "17b1ba91",
   "metadata": {},
   "source": [
    "<h3>Description of boxplot</h3>\n",
    "<ul>\n",
    "  <li>The only outliers are a couple old existing customers</li>\n",
    "  <li>The mean age is roughly similar at 46.26 ~ 46.66.  The median age is similar with 46 ~ 47.</li>  \n",
    "  <li>The IQR is similar for each boxplot</li>\n",
    "  <li>The data here is almost identical, I do not suspect customer age to have much affect customer attrition.</li>\n",
    "</ul>"
   ]
  },
  {
   "cell_type": "markdown",
   "id": "2d32719a",
   "metadata": {},
   "source": [
    "<h3>Hypothesis Test for relationshop between customer age and attrition</h3>\n",
    "\n",
    "<p>Null Hypothesis - There is no difference in mean age of attrited customers and existing customers</p>\n",
    "<p>Alternative Hypothesis - There is a difference in mean age of attrited customers and existing customers</p>"
   ]
  },
  {
   "cell_type": "code",
   "execution_count": 50,
   "id": "9a45027d",
   "metadata": {},
   "outputs": [],
   "source": [
    "df_temp = df[(np.abs(stats.zscore(df[\"Customer_Age\"])) < 3)] \n",
    "\n",
    "existing = df_temp[df_temp['Attrition_Flag'] == 'Existing Customer']['Customer_Age']\n",
    "attrited = df_temp[df_temp['Attrition_Flag'] == 'Attrited Customer']['Customer_Age']\n",
    "\n",
    "existing = existing.values.tolist()\n",
    "existing = random.sample(existing, 100)\n",
    "attrited = attrited.values.tolist()\n",
    "attrited = random.sample(attrited, 100)"
   ]
  },
  {
   "cell_type": "code",
   "execution_count": 51,
   "id": "58a1aa40",
   "metadata": {},
   "outputs": [
    {
     "name": "stdout",
     "output_type": "stream",
     "text": [
      "ttest -1.2426998370678877\n",
      "p value 0.21546051022261434\n",
      "we accept null hypothesis\n"
     ]
    }
   ],
   "source": [
    "ttest, pval = ttest_ind(existing, attrited, equal_var=False)\n",
    "print('ttest', ttest)\n",
    "print('p value', pval)\n",
    "\n",
    "if pval <0.05:\n",
    "    print(\"we reject null hypothesis\")\n",
    "else:\n",
    "    print(\"we accept null hypothesis\")"
   ]
  },
  {
   "cell_type": "code",
   "execution_count": 52,
   "id": "fdb37fc6",
   "metadata": {},
   "outputs": [
    {
     "data": {
      "image/png": "[encoded data removed]",
      "text/plain": [
       "<Figure size 720x720 with 1 Axes>"
      ]
     },
     "metadata": {
      "needs_background": "light"
     },
     "output_type": "display_data"
    }
   ],
   "source": [
    "# my example is for a prediction of a continuous variable, mine is categorical, binary.\n",
    "# Start with customer Age, boxplot for attrited and existing\n",
    "fig = plt.figure(figsize=(10,10)) \n",
    "sns.boxplot(x='Attrition_Flag', y='Months_on_book', data=df)\n",
    "plt.show()"
   ]
  },
  {
   "cell_type": "code",
   "execution_count": 53,
   "id": "520b0b66",
   "metadata": {},
   "outputs": [
    {
     "data": {
      "text/html": [
       "<div>\n",
       "<style scoped>\n",
       "    .dataframe tbody tr th:only-of-type {\n",
       "        vertical-align: middle;\n",
       "    }\n",
       "\n",
       "    .dataframe tbody tr th {\n",
       "        vertical-align: top;\n",
       "    }\n",
       "\n",
       "    .dataframe thead th {\n",
       "        text-align: right;\n",
       "    }\n",
       "</style>\n",
       "<table border=\"1\" class=\"dataframe\">\n",
       "  <thead>\n",
       "    <tr style=\"text-align: right;\">\n",
       "      <th></th>\n",
       "      <th>Attrition_Flag</th>\n",
       "      <th>Months_on_book</th>\n",
       "    </tr>\n",
       "  </thead>\n",
       "  <tbody>\n",
       "    <tr>\n",
       "      <th>0</th>\n",
       "      <td>Attrited Customer</td>\n",
       "      <td>36.178242</td>\n",
       "    </tr>\n",
       "    <tr>\n",
       "      <th>1</th>\n",
       "      <td>Existing Customer</td>\n",
       "      <td>35.880588</td>\n",
       "    </tr>\n",
       "  </tbody>\n",
       "</table>\n",
       "</div>"
      ],
      "text/plain": [
       "      Attrition_Flag  Months_on_book\n",
       "0  Attrited Customer       36.178242\n",
       "1  Existing Customer       35.880588"
      ]
     },
     "execution_count": 53,
     "metadata": {},
     "output_type": "execute_result"
    }
   ],
   "source": [
    "df[['Attrition_Flag', 'Months_on_book']].groupby(['Attrition_Flag'], as_index=False).mean().sort_values(by='Months_on_book', ascending=False)"
   ]
  },
  {
   "cell_type": "markdown",
   "id": "1b9d5a1c",
   "metadata": {},
   "source": [
    "<h3>Hypothesis Test for relationshop between customer months on book and attrition</h3>\n",
    "\n",
    "<p>Null Hypothesis - There is no difference in months on book for attrited customers and existing customers</p>\n",
    "<p>Alternative Hypothesis - There is a difference in months on book for attrited customers and existing customers</p>"
   ]
  },
  {
   "cell_type": "code",
   "execution_count": 54,
   "id": "cadbf4f8",
   "metadata": {},
   "outputs": [],
   "source": [
    "df_temp = df[(np.abs(stats.zscore(df['Months_on_book'])) < 3)] \n",
    "\n",
    "existing = df_temp[df_temp['Attrition_Flag'] == 'Existing Customer']['Months_on_book']\n",
    "attrited = df_temp[df_temp['Attrition_Flag'] == 'Attrited Customer']['Months_on_book']\n",
    "\n",
    "existing = existing.values.tolist()\n",
    "existing = random.sample(existing, 100)\n",
    "attrited = attrited.values.tolist()\n",
    "attrited = random.sample(attrited, 100)"
   ]
  },
  {
   "cell_type": "code",
   "execution_count": 55,
   "id": "29fd1553",
   "metadata": {},
   "outputs": [
    {
     "name": "stdout",
     "output_type": "stream",
     "text": [
      "ttest 0.15394422973328578\n",
      "p value 0.8778105415774\n",
      "we accept null hypothesis\n"
     ]
    }
   ],
   "source": [
    "ttest, pval = ttest_ind(existing, attrited, equal_var=False)\n",
    "print('ttest', ttest)\n",
    "print('p value', pval)\n",
    "\n",
    "if pval <0.05:\n",
    "    print(\"we reject null hypothesis\")\n",
    "else:\n",
    "    print(\"we accept null hypothesis\")"
   ]
  },
  {
   "cell_type": "code",
   "execution_count": 56,
   "id": "239c6738",
   "metadata": {},
   "outputs": [
    {
     "data": {
      "image/png": "[encoded data removed]",
      "text/plain": [
       "<Figure size 720x720 with 1 Axes>"
      ]
     },
     "metadata": {
      "needs_background": "light"
     },
     "output_type": "display_data"
    }
   ],
   "source": [
    "\n",
    "\n",
    "# my example is for a prediction of a continuous variable, mine is categorical, binary.\n",
    "# Start with customer Age, boxplot for attrited and existing\n",
    "fig = plt.figure(figsize=(10,10)) \n",
    "sns.boxplot(x='Attrition_Flag', y='Total_Relationship_Count', data=df)\n",
    "plt.show()"
   ]
  },
  {
   "cell_type": "code",
   "execution_count": 57,
   "id": "d51249b5",
   "metadata": {},
   "outputs": [
    {
     "data": {
      "text/html": [
       "<div>\n",
       "<style scoped>\n",
       "    .dataframe tbody tr th:only-of-type {\n",
       "        vertical-align: middle;\n",
       "    }\n",
       "\n",
       "    .dataframe tbody tr th {\n",
       "        vertical-align: top;\n",
       "    }\n",
       "\n",
       "    .dataframe thead th {\n",
       "        text-align: right;\n",
       "    }\n",
       "</style>\n",
       "<table border=\"1\" class=\"dataframe\">\n",
       "  <thead>\n",
       "    <tr style=\"text-align: right;\">\n",
       "      <th></th>\n",
       "      <th>Attrition_Flag</th>\n",
       "      <th>Total_Relationship_Count</th>\n",
       "    </tr>\n",
       "  </thead>\n",
       "  <tbody>\n",
       "    <tr>\n",
       "      <th>1</th>\n",
       "      <td>Existing Customer</td>\n",
       "      <td>3.914588</td>\n",
       "    </tr>\n",
       "    <tr>\n",
       "      <th>0</th>\n",
       "      <td>Attrited Customer</td>\n",
       "      <td>3.279656</td>\n",
       "    </tr>\n",
       "  </tbody>\n",
       "</table>\n",
       "</div>"
      ],
      "text/plain": [
       "      Attrition_Flag  Total_Relationship_Count\n",
       "1  Existing Customer                  3.914588\n",
       "0  Attrited Customer                  3.279656"
      ]
     },
     "execution_count": 57,
     "metadata": {},
     "output_type": "execute_result"
    }
   ],
   "source": [
    "df[['Attrition_Flag', 'Total_Relationship_Count']].groupby(['Attrition_Flag'], as_index=False).mean().sort_values(by='Total_Relationship_Count', ascending=False)"
   ]
  },
  {
   "cell_type": "markdown",
   "id": "6fe31653",
   "metadata": {},
   "source": [
    "<h3>Hypothesis Test for relationshop between customer relationship count and attrition</h3>\n",
    "\n",
    "<p>Null Hypothesis - There is no difference in relationship count for attrited customers and existing customers</p>\n",
    "<p>Alternative Hypothesis - There is a difference in relationship count for attrited customers and existing customers</p>"
   ]
  },
  {
   "cell_type": "code",
   "execution_count": 58,
   "id": "7cf125cf",
   "metadata": {},
   "outputs": [],
   "source": [
    "df_temp = df[(np.abs(stats.zscore(df['Total_Relationship_Count'])) < 3)] \n",
    "\n",
    "existing = df_temp[df_temp['Attrition_Flag'] == 'Existing Customer']['Total_Relationship_Count']\n",
    "attrited = df_temp[df_temp['Attrition_Flag'] == 'Attrited Customer']['Total_Relationship_Count']\n",
    "\n",
    "existing = existing.values.tolist()\n",
    "existing = random.sample(existing, 100)\n",
    "attrited = attrited.values.tolist()\n",
    "attrited = random.sample(attrited, 100)"
   ]
  },
  {
   "cell_type": "code",
   "execution_count": 59,
   "id": "e7d348fa",
   "metadata": {},
   "outputs": [
    {
     "name": "stdout",
     "output_type": "stream",
     "text": [
      "ttest 3.449170163194647\n",
      "p value 0.0006887437010537234\n",
      "we reject null hypothesis\n",
      "This feature should be important in determining customer attrition\n"
     ]
    }
   ],
   "source": [
    "ttest, pval = ttest_ind(existing, attrited, equal_var=False)\n",
    "print('ttest', ttest)\n",
    "print('p value', pval)\n",
    "\n",
    "if pval <0.05:\n",
    "    print(\"we reject null hypothesis\")\n",
    "    print('This feature should be important in determining customer attrition')\n",
    "else:\n",
    "    print(\"we accept null hypothesis\")"
   ]
  },
  {
   "cell_type": "markdown",
   "id": "78ace796",
   "metadata": {},
   "source": [
    "<h1>Bivariate Analysis for Categorical Variables</h1>"
   ]
  },
  {
   "cell_type": "markdown",
   "id": "f3d8fe15",
   "metadata": {},
   "source": [
    "<h3>Education Level</h3>"
   ]
  },
  {
   "cell_type": "code",
   "execution_count": 60,
   "id": "fc851c0d",
   "metadata": {
    "scrolled": false
   },
   "outputs": [
    {
     "data": {
      "image/png": "[encoded data removed]",
      "text/plain": [
       "<Figure size 864x720 with 1 Axes>"
      ]
     },
     "metadata": {
      "needs_background": "light"
     },
     "output_type": "display_data"
    }
   ],
   "source": [
    "# for the categorical variables it is similar to workclass, do this on the fly\n",
    "plt.figure(figsize=(12,10))\n",
    "total = float(len(df[\"Attrition_Flag\"]) )\n",
    "\n",
    "ax = sns.countplot(x=\"Education_Level\", hue=\"Attrition_Flag\", data=df)\n",
    "for p in ax.patches:\n",
    "    height = p.get_height()\n",
    "    ax.text(p.get_x()+p.get_width()/2.,\n",
    "            height + 3,\n",
    "            '{:1.2f}'.format((height/total)*100),\n",
    "            ha=\"center\") \n",
    "plt.show()"
   ]
  },
  {
   "cell_type": "code",
   "execution_count": 61,
   "id": "6d9175c4",
   "metadata": {},
   "outputs": [
    {
     "data": {
      "text/plain": [
       "array(['High School', 'Graduate', 'Uneducated', 'Unknown', 'College',\n",
       "       'Post-Graduate', 'Doctorate'], dtype=object)"
      ]
     },
     "execution_count": 61,
     "metadata": {},
     "output_type": "execute_result"
    }
   ],
   "source": [
    "nbr = df['Education_Level'].unique()\n",
    "nbr"
   ]
  },
  {
   "cell_type": "markdown",
   "id": "860654bc",
   "metadata": {},
   "source": [
    "<h3>Chi-Squared Test</h3>\n",
    "\n",
    "<p>Determines if there is a significant difference between an expected distribution and an actual distribution.</p>\n",
    "<p>For our example, the plot above is an actual distribution since it is from our data</p>\n",
    "<p>What is our expected distribution?</p>"
   ]
  },
  {
   "cell_type": "code",
   "execution_count": 62,
   "id": "5ea12d66",
   "metadata": {},
   "outputs": [
    {
     "data": {
      "text/html": [
       "<div>\n",
       "<style scoped>\n",
       "    .dataframe tbody tr th:only-of-type {\n",
       "        vertical-align: middle;\n",
       "    }\n",
       "\n",
       "    .dataframe tbody tr th {\n",
       "        vertical-align: top;\n",
       "    }\n",
       "\n",
       "    .dataframe thead th {\n",
       "        text-align: right;\n",
       "    }\n",
       "</style>\n",
       "<table border=\"1\" class=\"dataframe\">\n",
       "  <thead>\n",
       "    <tr style=\"text-align: right;\">\n",
       "      <th>Attrition_Flag</th>\n",
       "      <th>Attrited Customer</th>\n",
       "      <th>Existing Customer</th>\n",
       "    </tr>\n",
       "    <tr>\n",
       "      <th>Education_Level</th>\n",
       "      <th></th>\n",
       "      <th></th>\n",
       "    </tr>\n",
       "  </thead>\n",
       "  <tbody>\n",
       "    <tr>\n",
       "      <th>College</th>\n",
       "      <td>0</td>\n",
       "      <td>4</td>\n",
       "    </tr>\n",
       "    <tr>\n",
       "      <th>Doctorate</th>\n",
       "      <td>0</td>\n",
       "      <td>4</td>\n",
       "    </tr>\n",
       "    <tr>\n",
       "      <th>Graduate</th>\n",
       "      <td>0</td>\n",
       "      <td>2</td>\n",
       "    </tr>\n",
       "    <tr>\n",
       "      <th>High School</th>\n",
       "      <td>0</td>\n",
       "      <td>4</td>\n",
       "    </tr>\n",
       "    <tr>\n",
       "      <th>Uneducated</th>\n",
       "      <td>1</td>\n",
       "      <td>1</td>\n",
       "    </tr>\n",
       "    <tr>\n",
       "      <th>Unknown</th>\n",
       "      <td>1</td>\n",
       "      <td>3</td>\n",
       "    </tr>\n",
       "  </tbody>\n",
       "</table>\n",
       "</div>"
      ],
      "text/plain": [
       "Attrition_Flag   Attrited Customer  Existing Customer\n",
       "Education_Level                                      \n",
       "College                          0                  4\n",
       "Doctorate                        0                  4\n",
       "Graduate                         0                  2\n",
       "High School                      0                  4\n",
       "Uneducated                       1                  1\n",
       "Unknown                          1                  3"
      ]
     },
     "execution_count": 62,
     "metadata": {},
     "output_type": "execute_result"
    }
   ],
   "source": [
    "# contingency table\n",
    "c_t = pd.crosstab(df['Education_Level'].sample(frac=0.002, replace=True, random_state=53),df['Attrition_Flag'].sample(frac=0.002, replace=True, random_state=53),margins = False) \n",
    "c_t"
   ]
  },
  {
   "cell_type": "markdown",
   "id": "c61dea78",
   "metadata": {},
   "source": [
    "This table is to determine whether variables are contingent one each other.  Does customer attrition depend on education level or are they independent?  Hard to tell from table, we will use a Pearson Chi-Squared test"
   ]
  },
  {
   "cell_type": "markdown",
   "id": "39f9386f",
   "metadata": {},
   "source": [
    "<h3>Hypothesis Test for relationship between education level and attrition</h3>\n",
    "\n",
    "<p>Null Hypothesis - There is no relationship between education level and customer attrition</p>\n",
    "<p>Alternative Hypothesis - There is no relationship between education level and customer attrition</p>"
   ]
  },
  {
   "cell_type": "code",
   "execution_count": 63,
   "id": "55b1a912",
   "metadata": {
    "scrolled": true
   },
   "outputs": [
    {
     "name": "stdout",
     "output_type": "stream",
     "text": [
      "dof=5\n",
      "p_value 0.29555700404248264\n",
      "[[0.4 3.6]\n",
      " [0.4 3.6]\n",
      " [0.2 1.8]\n",
      " [0.4 3.6]\n",
      " [0.2 1.8]\n",
      " [0.4 3.6]]\n",
      "probability=0.950, critical=11.070, stat=6.111\n",
      "Independent - Accept Null Hypothesis\n"
     ]
    }
   ],
   "source": [
    "\n",
    "\n",
    "stat, p, dof, expected = chi2_contingency(c_t)\n",
    "print('dof=%d' % dof)\n",
    "print('p_value', p)\n",
    "print(expected)\n",
    "\n",
    "# interpret test-statistic\n",
    "prob = 0.95\n",
    "critical = chi2.ppf(prob, dof)\n",
    "print('probability=%.3f, critical=%.3f, stat=%.3f' % (prob, critical, stat))\n",
    "if abs(stat) >= critical:\n",
    "    print('Dependent - Reject Null Hypothesis')\n",
    "else:\n",
    "    print('Independent - Accept Null Hypothesis')"
   ]
  },
  {
   "cell_type": "markdown",
   "id": "50031df8",
   "metadata": {},
   "source": [
    "Since the test accepted the null hypothesis we have no dependency of education level on the target variable of Attrition Flag"
   ]
  },
  {
   "cell_type": "markdown",
   "id": "a88b6fd2",
   "metadata": {},
   "source": [
    "<h3>Hypothesis Test for relationship between Income and Attrition</h3>\n",
    "\n",
    "<p>Null Hypothesis - There is no relationship between income and customer attrition</p>\n",
    "<p>Alternative Hypothesis - There is no relationship between income and customer attrition</p>"
   ]
  },
  {
   "cell_type": "code",
   "execution_count": 64,
   "id": "af385ab2",
   "metadata": {},
   "outputs": [
    {
     "data": {
      "image/png": "[encoded data removed]",
      "text/plain": [
       "<Figure size 864x720 with 1 Axes>"
      ]
     },
     "metadata": {
      "needs_background": "light"
     },
     "output_type": "display_data"
    }
   ],
   "source": [
    "# for the categorical variables it is similar to workclass, do this on the fly\n",
    "plt.figure(figsize=(12,10))\n",
    "total = float(len(df[\"Attrition_Flag\"]) )\n",
    "\n",
    "ax = sns.countplot(x='Income_Category', hue=\"Attrition_Flag\", data=df)\n",
    "for p in ax.patches:\n",
    "    height = p.get_height()\n",
    "    ax.text(p.get_x()+p.get_width()/2.,\n",
    "            height + 3,\n",
    "            '{:1.2f}'.format((height/total)*100),\n",
    "            ha=\"center\") \n",
    "plt.show()"
   ]
  },
  {
   "cell_type": "code",
   "execution_count": 65,
   "id": "b72d05a9",
   "metadata": {},
   "outputs": [
    {
     "data": {
      "text/html": [
       "<div>\n",
       "<style scoped>\n",
       "    .dataframe tbody tr th:only-of-type {\n",
       "        vertical-align: middle;\n",
       "    }\n",
       "\n",
       "    .dataframe tbody tr th {\n",
       "        vertical-align: top;\n",
       "    }\n",
       "\n",
       "    .dataframe thead th {\n",
       "        text-align: right;\n",
       "    }\n",
       "</style>\n",
       "<table border=\"1\" class=\"dataframe\">\n",
       "  <thead>\n",
       "    <tr style=\"text-align: right;\">\n",
       "      <th>Attrition_Flag</th>\n",
       "      <th>Attrited Customer</th>\n",
       "      <th>Existing Customer</th>\n",
       "    </tr>\n",
       "    <tr>\n",
       "      <th>Income_Category</th>\n",
       "      <th></th>\n",
       "      <th></th>\n",
       "    </tr>\n",
       "  </thead>\n",
       "  <tbody>\n",
       "    <tr>\n",
       "      <th>$120K +</th>\n",
       "      <td>1</td>\n",
       "      <td>6</td>\n",
       "    </tr>\n",
       "    <tr>\n",
       "      <th>$40K - $60K</th>\n",
       "      <td>2</td>\n",
       "      <td>20</td>\n",
       "    </tr>\n",
       "    <tr>\n",
       "      <th>$60K - $80K</th>\n",
       "      <td>0</td>\n",
       "      <td>11</td>\n",
       "    </tr>\n",
       "    <tr>\n",
       "      <th>$80K - $120K</th>\n",
       "      <td>2</td>\n",
       "      <td>12</td>\n",
       "    </tr>\n",
       "    <tr>\n",
       "      <th>Less than $40K</th>\n",
       "      <td>7</td>\n",
       "      <td>26</td>\n",
       "    </tr>\n",
       "    <tr>\n",
       "      <th>Unknown</th>\n",
       "      <td>2</td>\n",
       "      <td>12</td>\n",
       "    </tr>\n",
       "  </tbody>\n",
       "</table>\n",
       "</div>"
      ],
      "text/plain": [
       "Attrition_Flag   Attrited Customer  Existing Customer\n",
       "Income_Category                                      \n",
       "$120K +                          1                  6\n",
       "$40K - $60K                      2                 20\n",
       "$60K - $80K                      0                 11\n",
       "$80K - $120K                     2                 12\n",
       "Less than $40K                   7                 26\n",
       "Unknown                          2                 12"
      ]
     },
     "execution_count": 65,
     "metadata": {},
     "output_type": "execute_result"
    }
   ],
   "source": [
    "# contingency table --> example usese frac=0.002\n",
    "c_t = pd.crosstab(df['Income_Category'].sample(frac=0.01, replace=True, random_state=53),df['Attrition_Flag'].sample(frac=0.01, replace=True, random_state=53),margins = False) \n",
    "c_t"
   ]
  },
  {
   "cell_type": "code",
   "execution_count": 66,
   "id": "3c39028c",
   "metadata": {},
   "outputs": [
    {
     "name": "stdout",
     "output_type": "stream",
     "text": [
      "dof=5\n",
      "p_value 0.5951371442685823\n",
      "[[ 0.97029703  6.02970297]\n",
      " [ 3.04950495 18.95049505]\n",
      " [ 1.52475248  9.47524752]\n",
      " [ 1.94059406 12.05940594]\n",
      " [ 4.57425743 28.42574257]\n",
      " [ 1.94059406 12.05940594]]\n",
      "probability=0.950, critical=11.070, stat=3.688\n",
      "Independent - Accept Null Hypothesis\n"
     ]
    }
   ],
   "source": [
    "stat, p, dof, expected = chi2_contingency(c_t)\n",
    "print('dof=%d' % dof)\n",
    "print('p_value', p)\n",
    "print(expected)\n",
    "\n",
    "# interpret test-statistic\n",
    "prob = 0.95\n",
    "critical = chi2.ppf(prob, dof)\n",
    "print('probability=%.3f, critical=%.3f, stat=%.3f' % (prob, critical, stat))\n",
    "if abs(stat) >= critical:\n",
    "    print('Dependent - Reject Null Hypothesis')\n",
    "else:\n",
    "    print('Independent - Accept Null Hypothesis')"
   ]
  },
  {
   "cell_type": "markdown",
   "id": "64968a4f",
   "metadata": {},
   "source": [
    "<h3>Hypothesis Test for relationship between Card Category and Attrition</h3>\n",
    "\n",
    "<p>Null Hypothesis - There is no relationship between card category and customer attrition</p>\n",
    "<p>Alternative Hypothesis - There is no relationship between card category and customer attrition</p>"
   ]
  },
  {
   "cell_type": "code",
   "execution_count": 67,
   "id": "4cdaf1d6",
   "metadata": {},
   "outputs": [
    {
     "data": {
      "image/png": "[encoded data removed]",
      "text/plain": [
       "<Figure size 864x720 with 1 Axes>"
      ]
     },
     "metadata": {
      "needs_background": "light"
     },
     "output_type": "display_data"
    }
   ],
   "source": [
    "#  Card Category analysis\n",
    "# for the categorical variables it is similar to workclass, do this on the fly\n",
    "plt.figure(figsize=(12,10))\n",
    "total = float(len(df[\"Attrition_Flag\"]) )\n",
    "\n",
    "ax = sns.countplot(x='Card_Category', hue=\"Attrition_Flag\", data=df)\n",
    "for p in ax.patches:\n",
    "    height = p.get_height()\n",
    "    ax.text(p.get_x()+p.get_width()/2.,\n",
    "            height + 3,\n",
    "            '{:1.2f}'.format((height/total)*100),\n",
    "            ha=\"center\") \n",
    "plt.show()"
   ]
  },
  {
   "cell_type": "code",
   "execution_count": 68,
   "id": "c1339f61",
   "metadata": {},
   "outputs": [
    {
     "data": {
      "text/html": [
       "<div>\n",
       "<style scoped>\n",
       "    .dataframe tbody tr th:only-of-type {\n",
       "        vertical-align: middle;\n",
       "    }\n",
       "\n",
       "    .dataframe tbody tr th {\n",
       "        vertical-align: top;\n",
       "    }\n",
       "\n",
       "    .dataframe thead th {\n",
       "        text-align: right;\n",
       "    }\n",
       "</style>\n",
       "<table border=\"1\" class=\"dataframe\">\n",
       "  <thead>\n",
       "    <tr style=\"text-align: right;\">\n",
       "      <th>Attrition_Flag</th>\n",
       "      <th>Attrited Customer</th>\n",
       "      <th>Existing Customer</th>\n",
       "    </tr>\n",
       "    <tr>\n",
       "      <th>Card_Category</th>\n",
       "      <th></th>\n",
       "      <th></th>\n",
       "    </tr>\n",
       "  </thead>\n",
       "  <tbody>\n",
       "    <tr>\n",
       "      <th>Blue</th>\n",
       "      <td>13</td>\n",
       "      <td>82</td>\n",
       "    </tr>\n",
       "    <tr>\n",
       "      <th>Gold</th>\n",
       "      <td>1</td>\n",
       "      <td>1</td>\n",
       "    </tr>\n",
       "    <tr>\n",
       "      <th>Silver</th>\n",
       "      <td>0</td>\n",
       "      <td>4</td>\n",
       "    </tr>\n",
       "  </tbody>\n",
       "</table>\n",
       "</div>"
      ],
      "text/plain": [
       "Attrition_Flag  Attrited Customer  Existing Customer\n",
       "Card_Category                                       \n",
       "Blue                           13                 82\n",
       "Gold                            1                  1\n",
       "Silver                          0                  4"
      ]
     },
     "execution_count": 68,
     "metadata": {},
     "output_type": "execute_result"
    }
   ],
   "source": [
    "c_t = pd.crosstab(df['Card_Category'].sample(frac=0.01, replace=True, random_state=53),df['Attrition_Flag'].sample(frac=0.01, replace=True, random_state=53),margins = False) \n",
    "c_t"
   ]
  },
  {
   "cell_type": "code",
   "execution_count": 69,
   "id": "290ba217",
   "metadata": {},
   "outputs": [
    {
     "name": "stdout",
     "output_type": "stream",
     "text": [
      "dof=2\n",
      "p_value 0.2424671102172388\n",
      "[[13.16831683 81.83168317]\n",
      " [ 0.27722772  1.72277228]\n",
      " [ 0.55445545  3.44554455]]\n",
      "probability=0.950, critical=5.991, stat=2.834\n",
      "Independent - Accept Null Hypothesis\n"
     ]
    }
   ],
   "source": [
    "stat, p, dof, expected = chi2_contingency(c_t)\n",
    "print('dof=%d' % dof)\n",
    "print('p_value', p)\n",
    "print(expected)\n",
    "\n",
    "# interpret test-statistic\n",
    "prob = 0.95\n",
    "critical = chi2.ppf(prob, dof)\n",
    "print('probability=%.3f, critical=%.3f, stat=%.3f' % (prob, critical, stat))\n",
    "if abs(stat) >= critical:\n",
    "    print('Dependent - Reject Null Hypothesis')\n",
    "else:\n",
    "    print('Independent - Accept Null Hypothesis')"
   ]
  },
  {
   "cell_type": "markdown",
   "id": "048f592c",
   "metadata": {},
   "source": [
    "<h3>Hypothesis Test for relationship between Gender and Attrition</h3>\n",
    "\n",
    "<p>Null Hypothesis - There is no relationship between gender and customer attrition</p>\n",
    "<p>Alternative Hypothesis - There is no relationship between gender and customer attrition</p>"
   ]
  },
  {
   "cell_type": "code",
   "execution_count": 70,
   "id": "75ce9060",
   "metadata": {},
   "outputs": [
    {
     "data": {
      "image/png": "[encoded data removed]",
      "text/plain": [
       "<Figure size 864x720 with 1 Axes>"
      ]
     },
     "metadata": {
      "needs_background": "light"
     },
     "output_type": "display_data"
    }
   ],
   "source": [
    "plt.figure(figsize=(12,10))\n",
    "total = float(len(df[\"Attrition_Flag\"]) )\n",
    "\n",
    "ax = sns.countplot(x='Gender', hue=\"Attrition_Flag\", data=df)\n",
    "for p in ax.patches:\n",
    "    height = p.get_height()\n",
    "    ax.text(p.get_x()+p.get_width()/2.,\n",
    "            height + 3,\n",
    "            '{:1.2f}'.format((height/total)*100),\n",
    "            ha=\"center\") \n",
    "plt.show()"
   ]
  },
  {
   "cell_type": "code",
   "execution_count": 71,
   "id": "9891edac",
   "metadata": {},
   "outputs": [
    {
     "data": {
      "text/html": [
       "<div>\n",
       "<style scoped>\n",
       "    .dataframe tbody tr th:only-of-type {\n",
       "        vertical-align: middle;\n",
       "    }\n",
       "\n",
       "    .dataframe tbody tr th {\n",
       "        vertical-align: top;\n",
       "    }\n",
       "\n",
       "    .dataframe thead th {\n",
       "        text-align: right;\n",
       "    }\n",
       "</style>\n",
       "<table border=\"1\" class=\"dataframe\">\n",
       "  <thead>\n",
       "    <tr style=\"text-align: right;\">\n",
       "      <th>Attrition_Flag</th>\n",
       "      <th>Attrited Customer</th>\n",
       "      <th>Existing Customer</th>\n",
       "    </tr>\n",
       "    <tr>\n",
       "      <th>Gender</th>\n",
       "      <th></th>\n",
       "      <th></th>\n",
       "    </tr>\n",
       "  </thead>\n",
       "  <tbody>\n",
       "    <tr>\n",
       "      <th>F</th>\n",
       "      <td>11</td>\n",
       "      <td>45</td>\n",
       "    </tr>\n",
       "    <tr>\n",
       "      <th>M</th>\n",
       "      <td>3</td>\n",
       "      <td>42</td>\n",
       "    </tr>\n",
       "  </tbody>\n",
       "</table>\n",
       "</div>"
      ],
      "text/plain": [
       "Attrition_Flag  Attrited Customer  Existing Customer\n",
       "Gender                                              \n",
       "F                              11                 45\n",
       "M                               3                 42"
      ]
     },
     "execution_count": 71,
     "metadata": {},
     "output_type": "execute_result"
    }
   ],
   "source": [
    "c_t = pd.crosstab(df['Gender'].sample(frac=0.01, replace=True, random_state=53),df['Attrition_Flag'].sample(frac=0.01, replace=True, random_state=53),margins = False) \n",
    "c_t"
   ]
  },
  {
   "cell_type": "code",
   "execution_count": 72,
   "id": "61c38d02",
   "metadata": {},
   "outputs": [
    {
     "name": "stdout",
     "output_type": "stream",
     "text": [
      "dof=1\n",
      "p_value 0.11271551453890269\n",
      "[[ 7.76237624 48.23762376]\n",
      " [ 6.23762376 38.76237624]]\n",
      "probability=0.950, critical=3.841, stat=2.516\n",
      "Independent - Accept Null Hypothesis\n"
     ]
    }
   ],
   "source": [
    "stat, p, dof, expected = chi2_contingency(c_t)\n",
    "print('dof=%d' % dof)\n",
    "print('p_value', p)\n",
    "print(expected)\n",
    "\n",
    "# interpret test-statistic\n",
    "prob = 0.95\n",
    "critical = chi2.ppf(prob, dof)\n",
    "print('probability=%.3f, critical=%.3f, stat=%.3f' % (prob, critical, stat))\n",
    "if abs(stat) >= critical:\n",
    "    print('Dependent - Reject Null Hypothesis')\n",
    "else:\n",
    "    print('Independent - Accept Null Hypothesis')"
   ]
  },
  {
   "cell_type": "markdown",
   "id": "a2787742",
   "metadata": {},
   "source": [
    "<h3>Hypothesis Test for relationship between Gender and Attrition</h3>\n",
    "\n",
    "<p>Null Hypothesis - There is no relationship between gender and customer attrition</p>\n",
    "<p>Alternative Hypothesis - There is no relationship between gender and customer attrition</p>"
   ]
  },
  {
   "cell_type": "code",
   "execution_count": 73,
   "id": "3c0dcd40",
   "metadata": {},
   "outputs": [
    {
     "data": {
      "image/png": "[encoded data removed]",
      "text/plain": [
       "<Figure size 864x720 with 1 Axes>"
      ]
     },
     "metadata": {
      "needs_background": "light"
     },
     "output_type": "display_data"
    }
   ],
   "source": [
    "plt.figure(figsize=(12,10))\n",
    "total = float(len(df[\"Attrition_Flag\"]) )\n",
    "\n",
    "ax = sns.countplot(x='Marital_Status', hue=\"Attrition_Flag\", data=df)\n",
    "for p in ax.patches:\n",
    "    height = p.get_height()\n",
    "    ax.text(p.get_x()+p.get_width()/2.,\n",
    "            height + 3,\n",
    "            '{:1.2f}'.format((height/total)*100),\n",
    "            ha=\"center\") \n",
    "plt.show()"
   ]
  },
  {
   "cell_type": "code",
   "execution_count": 74,
   "id": "0e744abf",
   "metadata": {},
   "outputs": [
    {
     "data": {
      "text/html": [
       "<div>\n",
       "<style scoped>\n",
       "    .dataframe tbody tr th:only-of-type {\n",
       "        vertical-align: middle;\n",
       "    }\n",
       "\n",
       "    .dataframe tbody tr th {\n",
       "        vertical-align: top;\n",
       "    }\n",
       "\n",
       "    .dataframe thead th {\n",
       "        text-align: right;\n",
       "    }\n",
       "</style>\n",
       "<table border=\"1\" class=\"dataframe\">\n",
       "  <thead>\n",
       "    <tr style=\"text-align: right;\">\n",
       "      <th>Attrition_Flag</th>\n",
       "      <th>Attrited Customer</th>\n",
       "      <th>Existing Customer</th>\n",
       "    </tr>\n",
       "    <tr>\n",
       "      <th>Marital_Status</th>\n",
       "      <th></th>\n",
       "      <th></th>\n",
       "    </tr>\n",
       "  </thead>\n",
       "  <tbody>\n",
       "    <tr>\n",
       "      <th>Divorced</th>\n",
       "      <td>2</td>\n",
       "      <td>4</td>\n",
       "    </tr>\n",
       "    <tr>\n",
       "      <th>Married</th>\n",
       "      <td>5</td>\n",
       "      <td>42</td>\n",
       "    </tr>\n",
       "    <tr>\n",
       "      <th>Single</th>\n",
       "      <td>5</td>\n",
       "      <td>38</td>\n",
       "    </tr>\n",
       "    <tr>\n",
       "      <th>Unknown</th>\n",
       "      <td>2</td>\n",
       "      <td>3</td>\n",
       "    </tr>\n",
       "  </tbody>\n",
       "</table>\n",
       "</div>"
      ],
      "text/plain": [
       "Attrition_Flag  Attrited Customer  Existing Customer\n",
       "Marital_Status                                      \n",
       "Divorced                        2                  4\n",
       "Married                         5                 42\n",
       "Single                          5                 38\n",
       "Unknown                         2                  3"
      ]
     },
     "execution_count": 74,
     "metadata": {},
     "output_type": "execute_result"
    }
   ],
   "source": [
    "c_t = pd.crosstab(df['Marital_Status'].sample(frac=0.01, replace=True, random_state=53),df['Attrition_Flag'].sample(frac=0.01, replace=True, random_state=53),margins = False) \n",
    "c_t"
   ]
  },
  {
   "cell_type": "code",
   "execution_count": 75,
   "id": "36905c68",
   "metadata": {},
   "outputs": [
    {
     "name": "stdout",
     "output_type": "stream",
     "text": [
      "dof=3\n",
      "p_value 0.14757544753458104\n",
      "[[ 0.83168317  5.16831683]\n",
      " [ 6.51485149 40.48514851]\n",
      " [ 5.96039604 37.03960396]\n",
      " [ 0.69306931  4.30693069]]\n",
      "probability=0.950, critical=7.815, stat=5.355\n",
      "Independent - Accept Null Hypothesis\n"
     ]
    }
   ],
   "source": [
    "stat, p, dof, expected = chi2_contingency(c_t)\n",
    "print('dof=%d' % dof)\n",
    "print('p_value', p)\n",
    "print(expected)\n",
    "\n",
    "# interpret test-statistic\n",
    "prob = 0.95\n",
    "critical = chi2.ppf(prob, dof)\n",
    "print('probability=%.3f, critical=%.3f, stat=%.3f' % (prob, critical, stat))\n",
    "if abs(stat) >= critical:\n",
    "    print('Dependent - Reject Null Hypothesis')\n",
    "else:\n",
    "    print('Independent - Accept Null Hypothesis')"
   ]
  },
  {
   "cell_type": "code",
   "execution_count": null,
   "id": "4ec7ca5a",
   "metadata": {},
   "outputs": [],
   "source": []
  }
 ],
 "metadata": {
  "kernelspec": {
   "display_name": "Python 3",
   "language": "python",
   "name": "python3"
  },
  "language_info": {
   "codemirror_mode": {
    "name": "ipython",
    "version": 3
   },
   "file_extension": ".py",
   "mimetype": "text/x-python",
   "name": "python",
   "nbconvert_exporter": "python",
   "pygments_lexer": "ipython3",
   "version": "3.7.9"
  }
 },
 "nbformat": 4,
 "nbformat_minor": 5
}
