{
 "cells": [
  {
   "cell_type": "code",
   "execution_count": 61,
   "id": "697d8f4c",
   "metadata": {},
   "outputs": [],
   "source": [
    "import numpy as np\n",
    "import pandas as pd\n",
    "from sklearn.model_selection import train_test_split\n",
    "from sklearn import preprocessing\n",
    "from sklearn.linear_model import LogisticRegression\n",
    "\n",
    "df = pd.read_csv('BankChurners.csv')\n",
    "y = df['Attrition_Flag'].to_numpy()"
   ]
  },
  {
   "cell_type": "code",
   "execution_count": 62,
   "id": "52653bb4",
   "metadata": {},
   "outputs": [
    {
     "name": "stdout",
     "output_type": "stream",
     "text": [
      "14 Numerical Only\n",
      "15 with Sex\n",
      "16 with Education\n",
      "20 with Marriage, should add 4\n",
      "26 with Income, should add 6\n",
      "30 with Card Color, should add 4\n"
     ]
    }
   ],
   "source": [
    "cols = df_raw.describe().columns\n",
    "cols = cols.tolist()\n",
    "dfx = df_raw[cols[1:-2]]\n",
    "X_num = dfx.to_numpy()\n",
    "print(str(X_num.shape[1]) + ' Numerical Only')\n",
    "\n",
    "# categorical, Gender\n",
    "df_gender = pd.get_dummies(df_raw['Gender'])\n",
    "genF = df_gender['F'].to_numpy()\n",
    "Xf = np.append(X_num,genF.reshape((10127,1)),axis=1)\n",
    "print(str(Xf.shape[1]) + ' with Sex')\n",
    "\n",
    "# categorical, Education\n",
    "# 0 = unknown, 1 = undeducated, ... , 6 = Doctorate\n",
    "# But maybe less educated use credit card more or less than highly educated this is for churn not ability to pay\n",
    "edu = df_raw['Education_Level'].unique()\n",
    "df_education = pd.get_dummies(df_raw['Education_Level'])\n",
    "df_education['Unknown'] = 0*df_education['Unknown']\n",
    "df_education['High School'] = 2*df_education['High School']\n",
    "df_education['College'] = 3*df_education['College']\n",
    "df_education['Graduate'] = 4*df_education['Graduate']\n",
    "df_education['Post-Graduate'] = 5*df_education['Post-Graduate']\n",
    "df_education['Doctorate'] = 6*df_education['Doctorate']\n",
    "df_edu = df_education.sum(axis=1)\n",
    "edu = df_edu.to_numpy()\n",
    "Xed = np.append(Xf, edu.reshape((10127,1)),axis=1)\n",
    "print(str(Xed.shape[1]) + ' with Education')\n",
    "\n",
    "# categorical, Marriage\n",
    "# Put 4 columns because is divorced more likely than single to use this card, I dont think so\n",
    "mar = df_raw['Marital_Status'].unique()\n",
    "# print(mar)\n",
    "df_mar = pd.get_dummies(df_raw['Marital_Status'])\n",
    "df_mar.head()\n",
    "mar = df_mar.to_numpy()\n",
    "# print(mar.shape)\n",
    "Xmar = np.append(Xed,mar,axis=1)\n",
    "print(str(Xmar.shape[1]) + ' with Marriage, should add 4')\n",
    "\n",
    "# categorical, Income\n",
    "# Put 6 columns because i am not sure if this should be ordinal but I am saying not.\n",
    "inc = df_raw['Income_Category'].unique()\n",
    "df_inc = pd.get_dummies(df_raw['Income_Category'])\n",
    "df_inc.head()\n",
    "inc = df_inc.to_numpy()\n",
    "Xinc = np.append(Xmar,inc,axis=1)\n",
    "print(str(Xinc.shape[1]) + ' with Income, should add 6')\n",
    "\n",
    "# categorical, Card Category\n",
    "# Put 6 columns because i am not sure if this should be ordinal but I am saying not, dont know what the order is.\n",
    "cc = df_raw['Card_Category'].unique()\n",
    "df_cc = pd.get_dummies(df_raw['Card_Category'])\n",
    "df_cc.tail()\n",
    "cc = df_cc.to_numpy()\n",
    "Xcc = np.append(Xinc,cc,axis=1)\n",
    "print(str(Xcc.shape[1]) + ' with Card Color, should add 4')"
   ]
  },
  {
   "cell_type": "code",
   "execution_count": 63,
   "id": "6bba7eef",
   "metadata": {},
   "outputs": [
    {
     "name": "stdout",
     "output_type": "stream",
     "text": [
      "14 Numerical Only\n",
      "15 with Sex\n",
      "16 with Education\n",
      "20 with Marriage, should add 4\n",
      "26 with Income, should add 6\n",
      "30 with Card Color, should add 4\n",
      "(10127, 30)\n"
     ]
    }
   ],
   "source": [
    "df_raw = pd.read_csv('BankChurners.csv')\n",
    "y = df_raw['Attrition_Flag'].to_numpy()\n",
    "\n",
    "#===========================================\n",
    "cols = df_raw.describe().columns\n",
    "cols = cols.tolist()\n",
    "dfx = df_raw[cols[1:-2]]\n",
    "X_num = dfx.to_numpy()\n",
    "print(str(X_num.shape[1]) + ' Numerical Only')\n",
    "\n",
    "# categorical, Gender\n",
    "df_gender = pd.get_dummies(df_raw['Gender'])\n",
    "genF = df_gender['F'].to_numpy()\n",
    "Xf = np.append(X_num,genF.reshape((10127,1)),axis=1)\n",
    "print(str(Xf.shape[1]) + ' with Sex')\n",
    "\n",
    "# categorical, Education\n",
    "# 0 = unknown, 1 = undeducated, ... , 6 = Doctorate\n",
    "# But maybe less educated use credit card more or less than highly educated this is for churn not ability to pay\n",
    "edu = df_raw['Education_Level'].unique()\n",
    "df_education = pd.get_dummies(df_raw['Education_Level'])\n",
    "df_education['Unknown'] = 0*df_education['Unknown']\n",
    "df_education['High School'] = 2*df_education['High School']\n",
    "df_education['College'] = 3*df_education['College']\n",
    "df_education['Graduate'] = 4*df_education['Graduate']\n",
    "df_education['Post-Graduate'] = 5*df_education['Post-Graduate']\n",
    "df_education['Doctorate'] = 6*df_education['Doctorate']\n",
    "df_edu = df_education.sum(axis=1)\n",
    "edu = df_edu.to_numpy()\n",
    "Xed = np.append(Xf, edu.reshape((10127,1)),axis=1)\n",
    "print(str(Xed.shape[1]) + ' with Education')\n",
    "\n",
    "# categorical, Marriage\n",
    "# Put 4 columns because is divorced more likely than single to use this card, I dont think so\n",
    "mar = df_raw['Marital_Status'].unique()\n",
    "# print(mar)\n",
    "df_mar = pd.get_dummies(df_raw['Marital_Status'])\n",
    "df_mar.head()\n",
    "mar = df_mar.to_numpy()\n",
    "# print(mar.shape)\n",
    "Xmar = np.append(Xed,mar,axis=1)\n",
    "print(str(Xmar.shape[1]) + ' with Marriage, should add 4')\n",
    "\n",
    "# categorical, Income\n",
    "# Put 6 columns because i am not sure if this should be ordinal but I am saying not.\n",
    "inc = df_raw['Income_Category'].unique()\n",
    "df_inc = pd.get_dummies(df_raw['Income_Category'])\n",
    "df_inc.head()\n",
    "inc = df_inc.to_numpy()\n",
    "Xinc = np.append(Xmar,inc,axis=1)\n",
    "print(str(Xinc.shape[1]) + ' with Income, should add 6')\n",
    "\n",
    "# categorical, Card Category\n",
    "# Put 6 columns because i am not sure if this should be ordinal but I am saying not, dont know what the order is.\n",
    "cc = df_raw['Card_Category'].unique()\n",
    "df_cc = pd.get_dummies(df_raw['Card_Category'])\n",
    "df_cc.tail()\n",
    "cc = df_cc.to_numpy()\n",
    "Xcc = np.append(Xinc,cc,axis=1)\n",
    "print(str(Xcc.shape[1]) + ' with Card Color, should add 4')\n",
    "\n",
    "\n",
    "# Final X, just rename\n",
    "X = Xcc\n",
    "print(X.shape)\n",
    "\n",
    "# TODO\n",
    "# Education Level ---- DONE\n",
    "# Marital Status ----- DONE\n",
    "# Income Category ---- DONE\n",
    "# Card Category ------ DONE"
   ]
  },
  {
   "cell_type": "code",
   "execution_count": 64,
   "id": "b2975788",
   "metadata": {},
   "outputs": [
    {
     "name": "stdout",
     "output_type": "stream",
     "text": [
      "(10127, 30)\n",
      "(10127,)\n"
     ]
    }
   ],
   "source": [
    "print(X.shape)\n",
    "print(y.shape)\n"
   ]
  },
  {
   "cell_type": "code",
   "execution_count": 141,
   "id": "183bf3ac",
   "metadata": {},
   "outputs": [],
   "source": [
    "X_train, X_test, y_train, y_test = train_test_split(X, y, test_size=0.25, random_state=0)\n",
    "\n",
    "scaler = preprocessing.StandardScaler()\n",
    "X_train = scaler.fit_transform(X_train)\n",
    "X_test = scaler.fit_transform(X_test)"
   ]
  },
  {
   "cell_type": "code",
   "execution_count": 142,
   "id": "b033f585",
   "metadata": {},
   "outputs": [],
   "source": [
    "logreg = LogisticRegression()\n",
    "logreg.fit(X_train,y_train)\n",
    "y_pred = logreg.predict(X_test)"
   ]
  },
  {
   "cell_type": "code",
   "execution_count": 143,
   "id": "27d225fd",
   "metadata": {},
   "outputs": [
    {
     "name": "stdout",
     "output_type": "stream",
     "text": [
      "AccuracyR: 0.5989583333333334\n"
     ]
    }
   ],
   "source": [
    "from sklearn.metrics import recall_score\n",
    "from sklearn import metrics\n",
    "print(\"AccuracyR:\",metrics.recall_score(y_test,y_pred, average=None, labels=['Attrited Customer'])[0])"
   ]
  },
  {
   "cell_type": "code",
   "execution_count": 144,
   "id": "fb9e63c4",
   "metadata": {},
   "outputs": [],
   "source": [
    "from sklearn.model_selection import GridSearchCV\n",
    "# import warnings\n",
    "# warnings.filterwarnings('ignore')\n",
    "\n",
    "# parameter grid\n",
    "parameters = {\n",
    "    'penalty' : ['none','l2','l1'], \n",
    "    'C'       : np.logspace(-3,3,7),\n",
    "    'solver'  : ['newton-cg', 'lbfgs', 'liblinear'],\n",
    "    'max_iter': [1000000]\n",
    "}"
   ]
  },
  {
   "cell_type": "code",
   "execution_count": 145,
   "id": "e917e1d5",
   "metadata": {},
   "outputs": [],
   "source": [
    "logreg = LogisticRegression()\n",
    "clf = GridSearchCV(logreg,                    # model\n",
    "                   param_grid = parameters,   # hyperparameters\n",
    "                   scoring='recall',        # metric for scoring\n",
    "                   cv=10)                     # number of folds"
   ]
  },
  {
   "cell_type": "code",
   "execution_count": 146,
   "id": "08d395db",
   "metadata": {},
   "outputs": [
    {
     "data": {
      "text/plain": [
       "GridSearchCV(cv=10, estimator=LogisticRegression(),\n",
       "             param_grid={'C': array([1.e-03, 1.e-02, 1.e-01, 1.e+00, 1.e+01, 1.e+02, 1.e+03]),\n",
       "                         'max_iter': [1000000], 'penalty': ['none', 'l2', 'l1'],\n",
       "                         'solver': ['newton-cg', 'lbfgs', 'liblinear']},\n",
       "             scoring='recall')"
      ]
     },
     "execution_count": 146,
     "metadata": {},
     "output_type": "execute_result"
    }
   ],
   "source": [
    "clf.fit(X_train,y_train)"
   ]
  },
  {
   "cell_type": "code",
   "execution_count": 147,
   "id": "e27c5733",
   "metadata": {},
   "outputs": [
    {
     "name": "stdout",
     "output_type": "stream",
     "text": [
      "Tuned Hyperparameters : {'C': 0.001, 'max_iter': 1000000, 'penalty': 'none', 'solver': 'newton-cg'}\n",
      "AccuracyR : nan\n"
     ]
    }
   ],
   "source": [
    "print(\"Tuned Hyperparameters :\", clf.best_params_)\n",
    "print(\"AccuracyR :\",clf.best_score_)"
   ]
  },
  {
   "cell_type": "code",
   "execution_count": 150,
   "id": "690a889b",
   "metadata": {},
   "outputs": [
    {
     "name": "stdout",
     "output_type": "stream",
     "text": [
      "AccuracyR: 0.6015625\n"
     ]
    }
   ],
   "source": [
    "logreg = LogisticRegression(C = 0.001, \n",
    "                            max_iter=1000000,\n",
    "                            penalty = 'none', \n",
    "                            solver = 'newton-cg')\n",
    "logreg.fit(X_train,y_train)\n",
    "y_pred = logreg.predict(X_test)\n",
    "print(\"AccuracyR:\",metrics.recall_score(y_test,y_pred, average=None, labels=['Attrited Customer'])[0])"
   ]
  },
  {
   "cell_type": "code",
   "execution_count": null,
   "id": "e757d540",
   "metadata": {},
   "outputs": [],
   "source": []
  }
 ],
 "metadata": {
  "kernelspec": {
   "display_name": "Python 3",
   "language": "python",
   "name": "python3"
  },
  "language_info": {
   "codemirror_mode": {
    "name": "ipython",
    "version": 3
   },
   "file_extension": ".py",
   "mimetype": "text/x-python",
   "name": "python",
   "nbconvert_exporter": "python",
   "pygments_lexer": "ipython3",
   "version": "3.7.6"
  }
 },
 "nbformat": 4,
 "nbformat_minor": 5
}
